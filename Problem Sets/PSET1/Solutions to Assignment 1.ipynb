{
 "cells": [
  {
   "cell_type": "markdown",
   "metadata": {},
   "source": [
    "# Problem 1\n",
    "\n",
    "Note that given the existence of matrices $X$ and $S$ we can make the following computation:\n",
    "\n",
    "$$\\begin{bmatrix} G & A^{\\top} \\\\ A^{\\top} & \\textbf{0}\\end{bmatrix} = \\begin{bmatrix} I & \\textbf{0} \\\\ X & I\\end{bmatrix}\\begin{bmatrix} G & \\textbf{0} \\\\ \\textbf{0} & S\\end{bmatrix}\\begin{bmatrix} I & X^{\\top} \\\\ 0 & I\\end{bmatrix}$$\n",
    "\n",
    "$$\\:=\\begin{bmatrix} I & \\textbf{0} \\\\ X & I\\end{bmatrix}\\begin{bmatrix} G & GX^{\\top} \\\\ \\textbf{0} & S\\end{bmatrix} = \\begin{bmatrix} G & GX^{\\top} \\\\ XG & XGX^{\\top} + S\\end{bmatrix}$$\n",
    "\n",
    "Consequently, we have $XG = A$ (as a sanity check we also have $(XG)^{\\top} = G^{\\top}X^{\\top} = GX^{\\top}$). Since $G$ is symmetric and positive definite, we can set $G=Q\\Lambda Q^{\\top}$ and $X = AQ\\Lambda^{-1}Q^{\\top}$, $\\Lambda^{-1}$ being well defined as it is a diagonal matrix with strictly positive entries. Furthermore, we also have $XGX^{\\top} + S = 0$ so $S = -XGX^{\\top} = -(QX)$. We can now work the equalities backwards to get the desired decomposition. Now, $-\\Lambda^{-1}$ is congruent to the diagonal matrix $-\\Lambda^{-1} = PSP^{\\top}$ where $P$ is invertible (since $A$ has full rank) so $S$ has $m$ negative eigenvalues. Then, the block matrix $\\begin{bmatrix} G & \\textbf{0} \\\\ \\textbf{0} & S\\end{bmatrix}$ has precisely $d$ positive (from $G$) and $m$ negative (from $S$) eigenvalues. Moreover, $\\begin{bmatrix} I & X^{\\top} \\\\ 0 & I\\end{bmatrix}$ is invertible so from Sylvester's law of inertia we have that $\\begin{bmatrix} G & A^{\\top} \\\\ A^{\\top} & \\textbf{0}\\end{bmatrix}$ has $d$ positive and $m$ negative eigenvalues. \n",
    "\n",
    "# Problem 2\n",
    "\n",
    "a) The Lagrangian for the problem is $L(x,\\Lambda) = (1/2)x^{\\top}Gx + c^{\\top}x - \\Lambda^{\\top}(Ax - b) = (1/2)x^{\\top}Gx + c^{\\top}x - (x^{\\top}A^{\\top} - b^{\\top})\\Lambda$ so taking the gradient with respect to $x$ and $\\Lambda$ respectively we get $\\nabla_{x}L(x,\\Lambda) = Gx + c - A^{\\top}\\Lambda = 0$ and $\\nabla_{\\Lambda}L(x,\\Lambda) = Ax - b = 0$ so the KKT system for this problem is \n",
    "\n",
    "$$ \\begin{bmatrix} G & -A^{\\top} \\\\ A & \\textbf{0}\\end{bmatrix}\\begin{bmatrix}x\\\\ \\Lambda \\end{bmatrix} = \\begin{bmatrix}-c \\\\ b\\end{bmatrix}$$\n",
    "\n",
    "b) Let $K = \\begin{bmatrix} G & -A^{\\top} \\\\ A & \\textbf{0}\\end{bmatrix}$. Suppose $\\exists\\,z = [x^{\\top} y^{\\top}]^{\\top}$ such that $Kz = 0$. Consequently, $\\begin{bmatrix} G & -A^{\\top} \\\\ A & \\textbf{0}\\end{bmatrix}\\begin{bmatrix}x \\\\ y \\end{bmatrix}$ $= \\begin{bmatrix}Gx - A^{\\top}y \\\\ Ax\\end{bmatrix} = 0^{\\top}$. Thus, $Ax = 0$. Furthermore, $0 = z^{\\top}Kz =  [x^{\\top} y^{\\top}]\\begin{bmatrix}Gx - A^{\\top}y \\\\ Ax\\end{bmatrix} = x^{\\top}Gx - x^{\\top}Gy + y^{\\top}Gx = x^{\\top}Gx$. But $Ax = 0$ so $x^{\\top}Gx = 0 \\iff x = 0$. Since $x = 0$ we have that $0 = Gx - A^{\\top}y = -A^{\\top}y$ so $y = 0$ since $A^{\\top} \\in M_{d\\times m}(\\mathbb{R})$ has full rank. \n",
    "\n",
    "c) The solution to the system $Kz = M$ is given by $z = \\text{Ker}(K) + z^{*}$ where $z^{*}$ is some particular solution. Since $\\text{Ker}(K) = \\{0\\}$ we have that $z = z^{*}$ is the only solution to the KKT system. "
   ]
  },
  {
   "cell_type": "code",
   "execution_count": null,
   "metadata": {},
   "outputs": [],
   "source": []
  }
 ],
 "metadata": {
  "@webio": {
   "lastCommId": null,
   "lastKernelId": null
  },
  "kernelspec": {
   "display_name": "Julia 1.2.0",
   "language": "julia",
   "name": "julia-1.2"
  },
  "language_info": {
   "file_extension": ".jl",
   "mimetype": "application/julia",
   "name": "julia",
   "version": "1.2.0"
  }
 },
 "nbformat": 4,
 "nbformat_minor": 2
}
