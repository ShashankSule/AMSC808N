{
 "cells": [
  {
   "cell_type": "markdown",
   "metadata": {},
   "source": [
    "This is a preliminary file for Project 2. Here we'll download the data and write a k-means clustering algorithm that we'll later insert into a Module. "
   ]
  },
  {
   "cell_type": "code",
   "execution_count": 4,
   "metadata": {},
   "outputs": [
    {
     "name": "stderr",
     "output_type": "stream",
     "text": [
      "┌ Info: Precompiling Plots [91a5bcdd-55d7-5caf-9e0b-520d859cae80]\n",
      "└ @ Base loading.jl:1278\n",
      "┌ Info: Precompiling Clustering [aaaa29a8-35af-508c-8bc3-b662a17a0fe5]\n",
      "└ @ Base loading.jl:1278\n",
      "WARNING: using Clustering.varinfo in module Main conflicts with an existing identifier.\n",
      "┌ Info: Precompiling Images [916415d5-f1e6-5110-898d-aaa5f9f070e0]\n",
      "└ @ Base loading.jl:1278\n"
     ]
    }
   ],
   "source": [
    "using LinearAlgebra\n",
    "using Plots\n",
    "using Statistics\n",
    "using DataFrames\n",
    "using CSV\n",
    "using Clustering\n",
    "using Images"
   ]
  },
  {
   "cell_type": "code",
   "execution_count": 5,
   "metadata": {},
   "outputs": [
    {
     "name": "stdout",
     "output_type": "stream",
     "text": [
      "thread = 1 warning: only found 19 / 20 columns around data row: 36. Filling remaining columns with `missing`\n"
     ]
    }
   ],
   "source": [
    "MovieData = CSV.read(\"MovieRankings36.csv\", datarow=1);\n",
    "MovieData = convert(Array,MovieData);"
   ]
  },
  {
   "cell_type": "code",
   "execution_count": 6,
   "metadata": {},
   "outputs": [],
   "source": [
    "rows = [0;1;2;3;7;10;12;15;24;28];\n",
    "rows = rows .+ 1; \n",
    "columns = [0;1;2;3;4;5;7;8;9;10;12;14;15;17;18;19];\n",
    "columns = columns .+ 1;\n",
    "dats = Float64.(MovieData[rows,columns]);"
   ]
  },
  {
   "cell_type": "markdown",
   "metadata": {},
   "source": [
    "## Running K-Means"
   ]
  },
  {
   "cell_type": "code",
   "execution_count": 7,
   "metadata": {},
   "outputs": [
    {
     "name": "stdout",
     "output_type": "stream",
     "text": [
      "  Iters               objv        objv-change | affected \n",
      "-------------------------------------------------------------\n",
      "      0       7.152000e+01\n",
      "      1       4.668500e+01      -2.483500e+01 |        0\n",
      "      2       4.668500e+01       0.000000e+00 |        0\n",
      "K-means converged with 2 iterations (objv = 46.68499999999966)\n"
     ]
    }
   ],
   "source": [
    "R = kmeans(dats',3, display=:iter);    "
   ]
  },
  {
   "cell_type": "code",
   "execution_count": 8,
   "metadata": {},
   "outputs": [],
   "source": [
    "a = R.assignments; \n",
    "c = R.centers;"
   ]
  },
  {
   "cell_type": "code",
   "execution_count": 10,
   "metadata": {},
   "outputs": [
    {
     "data": {
      "image/svg+xml": [
       "<?xml version=\"1.0\" encoding=\"utf-8\"?>\n",
       "<svg xmlns=\"http://www.w3.org/2000/svg\" xmlns:xlink=\"http://www.w3.org/1999/xlink\" width=\"600\" height=\"400\" viewBox=\"0 0 2400 1600\">\n",
       "<defs>\n",
       "  <clipPath id=\"clip050\">\n",
       "    <rect x=\"0\" y=\"0\" width=\"2400\" height=\"1600\"/>\n",
       "  </clipPath>\n",
       "</defs>\n",
       "<path clip-path=\"url(#clip050)\" d=\"\n",
       "M0 1600 L2400 1600 L2400 0 L0 0  Z\n",
       "  \" fill=\"#ffffff\" fill-rule=\"evenodd\" fill-opacity=\"1\"/>\n",
       "<defs>\n",
       "  <clipPath id=\"clip051\">\n",
       "    <rect x=\"480\" y=\"0\" width=\"1681\" height=\"1600\"/>\n",
       "  </clipPath>\n",
       "</defs>\n",
       "<defs>\n",
       "  <clipPath id=\"clip052\">\n",
       "    <rect x=\"112\" y=\"47\" width=\"2242\" height=\"1440\"/>\n",
       "  </clipPath>\n",
       "</defs>\n",
       "<path clip-path=\"url(#clip052)\" d=\"\n",
       "M112.177 952.133 L112.177 118.027 L1754.87 47.2441 L2352.76 581.559 L2352.76 1415.66 L710.067 1486.45 L112.177 952.133  Z\n",
       "  \" fill=\"#ffffff\" fill-rule=\"evenodd\" fill-opacity=\"1\"/>\n",
       "<polyline clip-path=\"url(#clip052)\" style=\"stroke:#000000; stroke-width:2; stroke-opacity:0.1; fill:none\" points=\"\n",
       "  129.099,967.255 1771.79,896.472 \n",
       "  \"/>\n",
       "<polyline clip-path=\"url(#clip052)\" style=\"stroke:#000000; stroke-width:2; stroke-opacity:0.1; fill:none\" points=\"\n",
       "  1771.79,896.472 1771.79,62.3662 \n",
       "  \"/>\n",
       "<polyline clip-path=\"url(#clip052)\" style=\"stroke:#000000; stroke-width:2; stroke-opacity:0.1; fill:none\" points=\"\n",
       "  270.11,1093.27 1912.8,1022.49 \n",
       "  \"/>\n",
       "<polyline clip-path=\"url(#clip052)\" style=\"stroke:#000000; stroke-width:2; stroke-opacity:0.1; fill:none\" points=\"\n",
       "  1912.8,1022.49 1912.8,188.384 \n",
       "  \"/>\n",
       "<polyline clip-path=\"url(#clip052)\" style=\"stroke:#000000; stroke-width:2; stroke-opacity:0.1; fill:none\" points=\"\n",
       "  411.122,1219.29 2053.81,1148.51 \n",
       "  \"/>\n",
       "<polyline clip-path=\"url(#clip052)\" style=\"stroke:#000000; stroke-width:2; stroke-opacity:0.1; fill:none\" points=\"\n",
       "  2053.81,1148.51 2053.81,314.402 \n",
       "  \"/>\n",
       "<polyline clip-path=\"url(#clip052)\" style=\"stroke:#000000; stroke-width:2; stroke-opacity:0.1; fill:none\" points=\"\n",
       "  552.134,1345.31 2194.82,1274.52 \n",
       "  \"/>\n",
       "<polyline clip-path=\"url(#clip052)\" style=\"stroke:#000000; stroke-width:2; stroke-opacity:0.1; fill:none\" points=\"\n",
       "  2194.82,1274.52 2194.82,440.42 \n",
       "  \"/>\n",
       "<polyline clip-path=\"url(#clip052)\" style=\"stroke:#000000; stroke-width:2; stroke-opacity:0.1; fill:none\" points=\"\n",
       "  693.146,1471.33 2335.83,1400.54 \n",
       "  \"/>\n",
       "<polyline clip-path=\"url(#clip052)\" style=\"stroke:#000000; stroke-width:2; stroke-opacity:0.1; fill:none\" points=\"\n",
       "  2335.83,1400.54 2335.83,566.437 \n",
       "  \"/>\n",
       "<polyline clip-path=\"url(#clip050)\" style=\"stroke:#000000; stroke-width:4; stroke-opacity:1; fill:none\" points=\"\n",
       "  112.177,952.133 710.067,1486.45 \n",
       "  \"/>\n",
       "<polyline clip-path=\"url(#clip050)\" style=\"stroke:#000000; stroke-width:4; stroke-opacity:1; fill:none\" points=\"\n",
       "  129.099,967.255 148.811,966.405 \n",
       "  \"/>\n",
       "<polyline clip-path=\"url(#clip050)\" style=\"stroke:#000000; stroke-width:4; stroke-opacity:1; fill:none\" points=\"\n",
       "  270.11,1093.27 289.823,1092.42 \n",
       "  \"/>\n",
       "<polyline clip-path=\"url(#clip050)\" style=\"stroke:#000000; stroke-width:4; stroke-opacity:1; fill:none\" points=\"\n",
       "  411.122,1219.29 430.834,1218.44 \n",
       "  \"/>\n",
       "<polyline clip-path=\"url(#clip050)\" style=\"stroke:#000000; stroke-width:4; stroke-opacity:1; fill:none\" points=\"\n",
       "  552.134,1345.31 571.846,1344.46 \n",
       "  \"/>\n",
       "<polyline clip-path=\"url(#clip050)\" style=\"stroke:#000000; stroke-width:4; stroke-opacity:1; fill:none\" points=\"\n",
       "  693.146,1471.33 712.858,1470.48 \n",
       "  \"/>\n",
       "<path clip-path=\"url(#clip050)\" d=\"M 0 0 M90.8626 1014.09 Q94.219 1014.81 96.094 1017.08 Q97.9921 1019.35 97.9921 1022.68 Q97.9921 1027.8 94.4736 1030.6 Q90.9551 1033.4 84.4737 1033.4 Q82.2978 1033.4 79.983 1032.96 Q77.6913 1032.54 75.2376 1031.69 L75.2376 1027.17 Q77.1821 1028.31 79.4969 1028.88 Q81.8117 1029.46 84.3348 1029.46 Q88.7329 1029.46 91.0246 1027.73 Q93.3394 1025.99 93.3394 1022.68 Q93.3394 1019.62 91.1866 1017.91 Q89.057 1016.18 85.2376 1016.18 L81.2098 1016.18 L81.2098 1012.33 L85.4228 1012.33 Q88.8718 1012.33 90.7005 1010.97 Q92.5292 1009.58 92.5292 1006.99 Q92.5292 1004.32 90.6311 1002.91 Q88.7561 1001.48 85.2376 1001.48 Q83.3163 1001.48 81.1172 1001.89 Q78.9182 1002.31 76.2793 1003.19 L76.2793 999.023 Q78.9413 998.282 81.2561 997.912 Q83.5941 997.542 85.6542 997.542 Q90.9783 997.542 94.0801 999.972 Q97.182 1002.38 97.182 1006.5 Q97.182 1009.37 95.5385 1011.36 Q93.8949 1013.33 90.8626 1014.09 Z\" fill=\"#000000\" fill-rule=\"evenodd\" fill-opacity=\"1\" /><path clip-path=\"url(#clip050)\" d=\"M 0 0 M103.062 1026.85 L107.946 1026.85 L107.946 1032.73 L103.062 1032.73 L103.062 1026.85 Z\" fill=\"#000000\" fill-rule=\"evenodd\" fill-opacity=\"1\" /><path clip-path=\"url(#clip050)\" d=\"M 0 0 M123.015 1001.25 Q119.404 1001.25 117.575 1004.81 Q115.77 1008.35 115.77 1015.48 Q115.77 1022.59 117.575 1026.15 Q119.404 1029.69 123.015 1029.69 Q126.649 1029.69 128.455 1026.15 Q130.284 1022.59 130.284 1015.48 Q130.284 1008.35 128.455 1004.81 Q126.649 1001.25 123.015 1001.25 M123.015 997.542 Q128.825 997.542 131.881 1002.15 Q134.96 1006.73 134.96 1015.48 Q134.96 1024.21 131.881 1028.81 Q128.825 1033.4 123.015 1033.4 Q117.205 1033.4 114.126 1028.81 Q111.071 1024.21 111.071 1015.48 Q111.071 1006.73 114.126 1002.15 Q117.205 997.542 123.015 997.542 Z\" fill=\"#000000\" fill-rule=\"evenodd\" fill-opacity=\"1\" /><path clip-path=\"url(#clip050)\" d=\"M 0 0 M232.372 1140.11 Q235.728 1140.83 237.603 1143.1 Q239.502 1145.36 239.502 1148.7 Q239.502 1153.81 235.983 1156.61 Q232.465 1159.42 225.983 1159.42 Q223.807 1159.42 221.492 1158.98 Q219.201 1158.56 216.747 1157.7 L216.747 1153.19 Q218.692 1154.32 221.006 1154.9 Q223.321 1155.48 225.844 1155.48 Q230.242 1155.48 232.534 1153.74 Q234.849 1152.01 234.849 1148.7 Q234.849 1145.64 232.696 1143.93 Q230.566 1142.19 226.747 1142.19 L222.719 1142.19 L222.719 1138.35 L226.932 1138.35 Q230.381 1138.35 232.21 1136.99 Q234.039 1135.6 234.039 1133 Q234.039 1130.34 232.141 1128.93 Q230.266 1127.49 226.747 1127.49 Q224.826 1127.49 222.627 1127.91 Q220.428 1128.33 217.789 1129.21 L217.789 1125.04 Q220.451 1124.3 222.766 1123.93 Q225.104 1123.56 227.164 1123.56 Q232.488 1123.56 235.59 1125.99 Q238.691 1128.4 238.691 1132.52 Q238.691 1135.39 237.048 1137.38 Q235.404 1139.35 232.372 1140.11 Z\" fill=\"#000000\" fill-rule=\"evenodd\" fill-opacity=\"1\" /><path clip-path=\"url(#clip050)\" d=\"M 0 0 M244.571 1152.86 L249.455 1152.86 L249.455 1158.74 L244.571 1158.74 L244.571 1152.86 Z\" fill=\"#000000\" fill-rule=\"evenodd\" fill-opacity=\"1\" /><path clip-path=\"url(#clip050)\" d=\"M 0 0 M254.571 1124.18 L272.927 1124.18 L272.927 1128.12 L258.853 1128.12 L258.853 1136.59 Q259.872 1136.24 260.89 1136.08 Q261.909 1135.9 262.927 1135.9 Q268.714 1135.9 272.094 1139.07 Q275.474 1142.24 275.474 1147.66 Q275.474 1153.24 272.001 1156.34 Q268.529 1159.42 262.21 1159.42 Q260.034 1159.42 257.765 1159.05 Q255.52 1158.68 253.113 1157.93 L253.113 1153.24 Q255.196 1154.37 257.418 1154.93 Q259.64 1155.48 262.117 1155.48 Q266.122 1155.48 268.46 1153.37 Q270.798 1151.27 270.798 1147.66 Q270.798 1144.05 268.46 1141.94 Q266.122 1139.83 262.117 1139.83 Q260.242 1139.83 258.367 1140.25 Q256.515 1140.67 254.571 1141.55 L254.571 1124.18 Z\" fill=\"#000000\" fill-rule=\"evenodd\" fill-opacity=\"1\" /><path clip-path=\"url(#clip050)\" d=\"M 0 0 M371.648 1254.28 L359.842 1272.73 L371.648 1272.73 L371.648 1254.28 M370.421 1250.2 L376.3 1250.2 L376.3 1272.73 L381.231 1272.73 L381.231 1276.61 L376.3 1276.61 L376.3 1284.76 L371.648 1284.76 L371.648 1276.61 L356.046 1276.61 L356.046 1272.1 L370.421 1250.2 Z\" fill=\"#000000\" fill-rule=\"evenodd\" fill-opacity=\"1\" /><path clip-path=\"url(#clip050)\" d=\"M 0 0 M386.3 1278.88 L391.185 1278.88 L391.185 1284.76 L386.3 1284.76 L386.3 1278.88 Z\" fill=\"#000000\" fill-rule=\"evenodd\" fill-opacity=\"1\" /><path clip-path=\"url(#clip050)\" d=\"M 0 0 M406.254 1253.28 Q402.643 1253.28 400.814 1256.85 Q399.009 1260.39 399.009 1267.52 Q399.009 1274.62 400.814 1278.19 Q402.643 1281.73 406.254 1281.73 Q409.888 1281.73 411.694 1278.19 Q413.522 1274.62 413.522 1267.52 Q413.522 1260.39 411.694 1256.85 Q409.888 1253.28 406.254 1253.28 M406.254 1249.58 Q412.064 1249.58 415.12 1254.18 Q418.198 1258.77 418.198 1267.52 Q418.198 1276.24 415.12 1280.85 Q412.064 1285.43 406.254 1285.43 Q400.444 1285.43 397.365 1280.85 Q394.31 1276.24 394.31 1267.52 Q394.31 1258.77 397.365 1254.18 Q400.444 1249.58 406.254 1249.58 Z\" fill=\"#000000\" fill-rule=\"evenodd\" fill-opacity=\"1\" /><path clip-path=\"url(#clip050)\" d=\"M 0 0 M513.157 1380.29 L501.352 1398.74 L513.157 1398.74 L513.157 1380.29 M511.93 1376.22 L517.81 1376.22 L517.81 1398.74 L522.74 1398.74 L522.74 1402.63 L517.81 1402.63 L517.81 1410.78 L513.157 1410.78 L513.157 1402.63 L497.555 1402.63 L497.555 1398.12 L511.93 1376.22 Z\" fill=\"#000000\" fill-rule=\"evenodd\" fill-opacity=\"1\" /><path clip-path=\"url(#clip050)\" d=\"M 0 0 M527.81 1404.9 L532.694 1404.9 L532.694 1410.78 L527.81 1410.78 L527.81 1404.9 Z\" fill=\"#000000\" fill-rule=\"evenodd\" fill-opacity=\"1\" /><path clip-path=\"url(#clip050)\" d=\"M 0 0 M537.81 1376.22 L556.166 1376.22 L556.166 1380.16 L542.092 1380.16 L542.092 1388.63 Q543.111 1388.28 544.129 1388.12 Q545.148 1387.93 546.166 1387.93 Q551.953 1387.93 555.333 1391.1 Q558.712 1394.28 558.712 1399.69 Q558.712 1405.27 555.24 1408.37 Q551.768 1411.45 545.449 1411.45 Q543.273 1411.45 541.004 1411.08 Q538.759 1410.71 536.351 1409.97 L536.351 1405.27 Q538.435 1406.41 540.657 1406.96 Q542.879 1407.52 545.356 1407.52 Q549.361 1407.52 551.699 1405.41 Q554.037 1403.3 554.037 1399.69 Q554.037 1396.08 551.699 1393.97 Q549.361 1391.87 545.356 1391.87 Q543.481 1391.87 541.606 1392.28 Q539.754 1392.7 537.81 1393.58 L537.81 1376.22 Z\" fill=\"#000000\" fill-rule=\"evenodd\" fill-opacity=\"1\" /><path clip-path=\"url(#clip050)\" d=\"M 0 0 M640.94 1502.24 L659.296 1502.24 L659.296 1506.17 L645.222 1506.17 L645.222 1514.65 Q646.241 1514.3 647.259 1514.14 Q648.278 1513.95 649.296 1513.95 Q655.083 1513.95 658.463 1517.12 Q661.842 1520.29 661.842 1525.71 Q661.842 1531.29 658.37 1534.39 Q654.898 1537.47 648.579 1537.47 Q646.403 1537.47 644.134 1537.1 Q641.889 1536.73 639.481 1535.99 L639.481 1531.29 Q641.565 1532.42 643.787 1532.98 Q646.009 1533.53 648.486 1533.53 Q652.491 1533.53 654.829 1531.43 Q657.167 1529.32 657.167 1525.71 Q657.167 1522.1 654.829 1519.99 Q652.491 1517.89 648.486 1517.89 Q646.611 1517.89 644.736 1518.3 Q642.884 1518.72 640.94 1519.6 L640.94 1502.24 Z\" fill=\"#000000\" fill-rule=\"evenodd\" fill-opacity=\"1\" /><path clip-path=\"url(#clip050)\" d=\"M 0 0 M666.912 1530.92 L671.796 1530.92 L671.796 1536.8 L666.912 1536.8 L666.912 1530.92 Z\" fill=\"#000000\" fill-rule=\"evenodd\" fill-opacity=\"1\" /><path clip-path=\"url(#clip050)\" d=\"M 0 0 M686.865 1505.32 Q683.254 1505.32 681.426 1508.88 Q679.62 1512.42 679.62 1519.55 Q679.62 1526.66 681.426 1530.22 Q683.254 1533.77 686.865 1533.77 Q690.5 1533.77 692.305 1530.22 Q694.134 1526.66 694.134 1519.55 Q694.134 1512.42 692.305 1508.88 Q690.5 1505.32 686.865 1505.32 M686.865 1501.61 Q692.676 1501.61 695.731 1506.22 Q698.81 1510.8 698.81 1519.55 Q698.81 1528.28 695.731 1532.89 Q692.676 1537.47 686.865 1537.47 Q681.055 1537.47 677.977 1532.89 Q674.921 1528.28 674.921 1519.55 Q674.921 1510.8 677.977 1506.22 Q681.055 1501.61 686.865 1501.61 Z\" fill=\"#000000\" fill-rule=\"evenodd\" fill-opacity=\"1\" /><polyline clip-path=\"url(#clip052)\" style=\"stroke:#000000; stroke-width:2; stroke-opacity:0.1; fill:none\" points=\"\n",
       "  897.441,1478.37 299.551,944.059 \n",
       "  \"/>\n",
       "<polyline clip-path=\"url(#clip052)\" style=\"stroke:#000000; stroke-width:2; stroke-opacity:0.1; fill:none\" points=\"\n",
       "  299.551,944.059 299.551,109.953 \n",
       "  \"/>\n",
       "<polyline clip-path=\"url(#clip052)\" style=\"stroke:#000000; stroke-width:2; stroke-opacity:0.1; fill:none\" points=\"\n",
       "  1249.65,1463.2 651.757,928.882 \n",
       "  \"/>\n",
       "<polyline clip-path=\"url(#clip052)\" style=\"stroke:#000000; stroke-width:2; stroke-opacity:0.1; fill:none\" points=\"\n",
       "  651.757,928.882 651.757,94.7768 \n",
       "  \"/>\n",
       "<polyline clip-path=\"url(#clip052)\" style=\"stroke:#000000; stroke-width:2; stroke-opacity:0.1; fill:none\" points=\"\n",
       "  1601.85,1448.02 1003.96,913.706 \n",
       "  \"/>\n",
       "<polyline clip-path=\"url(#clip052)\" style=\"stroke:#000000; stroke-width:2; stroke-opacity:0.1; fill:none\" points=\"\n",
       "  1003.96,913.706 1003.96,79.6003 \n",
       "  \"/>\n",
       "<polyline clip-path=\"url(#clip052)\" style=\"stroke:#000000; stroke-width:2; stroke-opacity:0.1; fill:none\" points=\"\n",
       "  1954.06,1432.84 1356.17,898.529 \n",
       "  \"/>\n",
       "<polyline clip-path=\"url(#clip052)\" style=\"stroke:#000000; stroke-width:2; stroke-opacity:0.1; fill:none\" points=\"\n",
       "  1356.17,898.529 1356.17,64.4239 \n",
       "  \"/>\n",
       "<polyline clip-path=\"url(#clip052)\" style=\"stroke:#000000; stroke-width:2; stroke-opacity:0.1; fill:none\" points=\"\n",
       "  2306.26,1417.67 1708.37,883.353 \n",
       "  \"/>\n",
       "<polyline clip-path=\"url(#clip052)\" style=\"stroke:#000000; stroke-width:2; stroke-opacity:0.1; fill:none\" points=\"\n",
       "  1708.37,883.353 1708.37,49.2474 \n",
       "  \"/>\n",
       "<polyline clip-path=\"url(#clip050)\" style=\"stroke:#000000; stroke-width:4; stroke-opacity:1; fill:none\" points=\"\n",
       "  710.067,1486.45 2352.76,1415.66 \n",
       "  \"/>\n",
       "<polyline clip-path=\"url(#clip050)\" style=\"stroke:#000000; stroke-width:4; stroke-opacity:1; fill:none\" points=\"\n",
       "  897.441,1478.37 890.266,1471.96 \n",
       "  \"/>\n",
       "<polyline clip-path=\"url(#clip050)\" style=\"stroke:#000000; stroke-width:4; stroke-opacity:1; fill:none\" points=\"\n",
       "  1249.65,1463.2 1242.47,1456.79 \n",
       "  \"/>\n",
       "<polyline clip-path=\"url(#clip050)\" style=\"stroke:#000000; stroke-width:4; stroke-opacity:1; fill:none\" points=\"\n",
       "  1601.85,1448.02 1594.68,1441.61 \n",
       "  \"/>\n",
       "<polyline clip-path=\"url(#clip050)\" style=\"stroke:#000000; stroke-width:4; stroke-opacity:1; fill:none\" points=\"\n",
       "  1954.06,1432.84 1946.88,1426.43 \n",
       "  \"/>\n",
       "<polyline clip-path=\"url(#clip050)\" style=\"stroke:#000000; stroke-width:4; stroke-opacity:1; fill:none\" points=\"\n",
       "  2306.26,1417.67 2299.09,1411.26 \n",
       "  \"/>\n",
       "<path clip-path=\"url(#clip050)\" d=\"M 0 0 M892.459 1513.36 L880.654 1531.81 L892.459 1531.81 L892.459 1513.36 M891.232 1509.29 L897.112 1509.29 L897.112 1531.81 L902.043 1531.81 L902.043 1535.7 L897.112 1535.7 L897.112 1543.85 L892.459 1543.85 L892.459 1535.7 L876.858 1535.7 L876.858 1531.18 L891.232 1509.29 Z\" fill=\"#000000\" fill-rule=\"evenodd\" fill-opacity=\"1\" /><path clip-path=\"url(#clip050)\" d=\"M 0 0 M907.112 1537.97 L911.996 1537.97 L911.996 1543.85 L907.112 1543.85 L907.112 1537.97 Z\" fill=\"#000000\" fill-rule=\"evenodd\" fill-opacity=\"1\" /><path clip-path=\"url(#clip050)\" d=\"M 0 0 M927.066 1512.36 Q923.455 1512.36 921.626 1515.93 Q919.82 1519.47 919.82 1526.6 Q919.82 1533.71 921.626 1537.27 Q923.455 1540.81 927.066 1540.81 Q930.7 1540.81 932.505 1537.27 Q934.334 1533.71 934.334 1526.6 Q934.334 1519.47 932.505 1515.93 Q930.7 1512.36 927.066 1512.36 M927.066 1508.66 Q932.876 1508.66 935.931 1513.27 Q939.01 1517.85 939.01 1526.6 Q939.01 1535.33 935.931 1539.93 Q932.876 1544.52 927.066 1544.52 Q921.255 1544.52 918.177 1539.93 Q915.121 1535.33 915.121 1526.6 Q915.121 1517.85 918.177 1513.27 Q921.255 1508.66 927.066 1508.66 Z\" fill=\"#000000\" fill-rule=\"evenodd\" fill-opacity=\"1\" /><path clip-path=\"url(#clip050)\" d=\"M 0 0 M954.079 1512.36 Q950.468 1512.36 948.64 1515.93 Q946.834 1519.47 946.834 1526.6 Q946.834 1533.71 948.64 1537.27 Q950.468 1540.81 954.079 1540.81 Q957.714 1540.81 959.519 1537.27 Q961.348 1533.71 961.348 1526.6 Q961.348 1519.47 959.519 1515.93 Q957.714 1512.36 954.079 1512.36 M954.079 1508.66 Q959.89 1508.66 962.945 1513.27 Q966.024 1517.85 966.024 1526.6 Q966.024 1535.33 962.945 1539.93 Q959.89 1544.52 954.079 1544.52 Q948.269 1544.52 945.191 1539.93 Q942.135 1535.33 942.135 1526.6 Q942.135 1517.85 945.191 1513.27 Q948.269 1508.66 954.079 1508.66 Z\" fill=\"#000000\" fill-rule=\"evenodd\" fill-opacity=\"1\" /><path clip-path=\"url(#clip050)\" d=\"M 0 0 M1245.96 1498.18 L1234.16 1516.63 L1245.96 1516.63 L1245.96 1498.18 M1244.73 1494.11 L1250.61 1494.11 L1250.61 1516.63 L1255.54 1516.63 L1255.54 1520.52 L1250.61 1520.52 L1250.61 1528.67 L1245.96 1528.67 L1245.96 1520.52 L1230.36 1520.52 L1230.36 1516.01 L1244.73 1494.11 Z\" fill=\"#000000\" fill-rule=\"evenodd\" fill-opacity=\"1\" /><path clip-path=\"url(#clip050)\" d=\"M 0 0 M1260.61 1522.79 L1265.5 1522.79 L1265.5 1528.67 L1260.61 1528.67 L1260.61 1522.79 Z\" fill=\"#000000\" fill-rule=\"evenodd\" fill-opacity=\"1\" /><path clip-path=\"url(#clip050)\" d=\"M 0 0 M1274.6 1524.73 L1290.92 1524.73 L1290.92 1528.67 L1268.97 1528.67 L1268.97 1524.73 Q1271.63 1521.98 1276.22 1517.35 Q1280.82 1512.7 1282 1511.35 Q1284.25 1508.83 1285.13 1507.1 Q1286.03 1505.34 1286.03 1503.65 Q1286.03 1500.89 1284.09 1499.16 Q1282.17 1497.42 1279.06 1497.42 Q1276.86 1497.42 1274.41 1498.18 Q1271.98 1498.95 1269.2 1500.5 L1269.2 1495.78 Q1272.03 1494.64 1274.48 1494.06 Q1276.93 1493.48 1278.97 1493.48 Q1284.34 1493.48 1287.54 1496.17 Q1290.73 1498.85 1290.73 1503.35 Q1290.73 1505.48 1289.92 1507.4 Q1289.13 1509.29 1287.03 1511.89 Q1286.45 1512.56 1283.35 1515.78 Q1280.24 1518.97 1274.6 1524.73 Z\" fill=\"#000000\" fill-rule=\"evenodd\" fill-opacity=\"1\" /><path clip-path=\"url(#clip050)\" d=\"M 0 0 M1296.03 1494.11 L1314.39 1494.11 L1314.39 1498.04 L1300.31 1498.04 L1300.31 1506.52 Q1301.33 1506.17 1302.35 1506.01 Q1303.37 1505.82 1304.39 1505.82 Q1310.17 1505.82 1313.55 1508.99 Q1316.93 1512.16 1316.93 1517.58 Q1316.93 1523.16 1313.46 1526.26 Q1309.99 1529.34 1303.67 1529.34 Q1301.49 1529.34 1299.23 1528.97 Q1296.98 1528.6 1294.57 1527.86 L1294.57 1523.16 Q1296.66 1524.29 1298.88 1524.85 Q1301.1 1525.41 1303.58 1525.41 Q1307.58 1525.41 1309.92 1523.3 Q1312.26 1521.19 1312.26 1517.58 Q1312.26 1513.97 1309.92 1511.86 Q1307.58 1509.76 1303.58 1509.76 Q1301.7 1509.76 1299.83 1510.17 Q1297.98 1510.59 1296.03 1511.47 L1296.03 1494.11 Z\" fill=\"#000000\" fill-rule=\"evenodd\" fill-opacity=\"1\" /><path clip-path=\"url(#clip050)\" d=\"M 0 0 M1597.37 1483.01 L1585.56 1501.46 L1597.37 1501.46 L1597.37 1483.01 M1596.14 1478.93 L1602.02 1478.93 L1602.02 1501.46 L1606.95 1501.46 L1606.95 1505.34 L1602.02 1505.34 L1602.02 1513.49 L1597.37 1513.49 L1597.37 1505.34 L1581.77 1505.34 L1581.77 1500.83 L1596.14 1478.93 Z\" fill=\"#000000\" fill-rule=\"evenodd\" fill-opacity=\"1\" /><path clip-path=\"url(#clip050)\" d=\"M 0 0 M1612.02 1507.61 L1616.91 1507.61 L1616.91 1513.49 L1612.02 1513.49 L1612.02 1507.61 Z\" fill=\"#000000\" fill-rule=\"evenodd\" fill-opacity=\"1\" /><path clip-path=\"url(#clip050)\" d=\"M 0 0 M1622.02 1478.93 L1640.38 1478.93 L1640.38 1482.87 L1626.3 1482.87 L1626.3 1491.34 Q1627.32 1490.99 1628.34 1490.83 Q1629.36 1490.65 1630.38 1490.65 Q1636.17 1490.65 1639.54 1493.82 Q1642.92 1496.99 1642.92 1502.41 Q1642.92 1507.98 1639.45 1511.09 Q1635.98 1514.16 1629.66 1514.16 Q1627.48 1514.16 1625.22 1513.79 Q1622.97 1513.42 1620.56 1512.68 L1620.56 1507.98 Q1622.65 1509.12 1624.87 1509.67 Q1627.09 1510.23 1629.57 1510.23 Q1633.57 1510.23 1635.91 1508.12 Q1638.25 1506.02 1638.25 1502.41 Q1638.25 1498.79 1635.91 1496.69 Q1633.57 1494.58 1629.57 1494.58 Q1627.69 1494.58 1625.82 1495 Q1623.97 1495.41 1622.02 1496.29 L1622.02 1478.93 Z\" fill=\"#000000\" fill-rule=\"evenodd\" fill-opacity=\"1\" /><path clip-path=\"url(#clip050)\" d=\"M 0 0 M1657.99 1482.01 Q1654.38 1482.01 1652.55 1485.58 Q1650.75 1489.12 1650.75 1496.25 Q1650.75 1503.35 1652.55 1506.92 Q1654.38 1510.46 1657.99 1510.46 Q1661.63 1510.46 1663.43 1506.92 Q1665.26 1503.35 1665.26 1496.25 Q1665.26 1489.12 1663.43 1485.58 Q1661.63 1482.01 1657.99 1482.01 M1657.99 1478.31 Q1663.8 1478.31 1666.86 1482.91 Q1669.94 1487.5 1669.94 1496.25 Q1669.94 1504.97 1666.86 1509.58 Q1663.8 1514.16 1657.99 1514.16 Q1652.18 1514.16 1649.1 1509.58 Q1646.05 1504.97 1646.05 1496.25 Q1646.05 1487.5 1649.1 1482.91 Q1652.18 1478.31 1657.99 1478.31 Z\" fill=\"#000000\" fill-rule=\"evenodd\" fill-opacity=\"1\" /><path clip-path=\"url(#clip050)\" d=\"M 0 0 M1950.03 1467.83 L1938.22 1486.28 L1950.03 1486.28 L1950.03 1467.83 M1948.8 1463.76 L1954.68 1463.76 L1954.68 1486.28 L1959.61 1486.28 L1959.61 1490.17 L1954.68 1490.17 L1954.68 1498.32 L1950.03 1498.32 L1950.03 1490.17 L1934.42 1490.17 L1934.42 1485.65 L1948.8 1463.76 Z\" fill=\"#000000\" fill-rule=\"evenodd\" fill-opacity=\"1\" /><path clip-path=\"url(#clip050)\" d=\"M 0 0 M1964.68 1492.44 L1969.56 1492.44 L1969.56 1498.32 L1964.68 1498.32 L1964.68 1492.44 Z\" fill=\"#000000\" fill-rule=\"evenodd\" fill-opacity=\"1\" /><path clip-path=\"url(#clip050)\" d=\"M 0 0 M1973.45 1463.76 L1995.67 1463.76 L1995.67 1465.75 L1983.13 1498.32 L1978.24 1498.32 L1990.05 1467.69 L1973.45 1467.69 L1973.45 1463.76 Z\" fill=\"#000000\" fill-rule=\"evenodd\" fill-opacity=\"1\" /><path clip-path=\"url(#clip050)\" d=\"M 0 0 M2000.79 1463.76 L2019.15 1463.76 L2019.15 1467.69 L2005.07 1467.69 L2005.07 1476.16 Q2006.09 1475.82 2007.11 1475.65 Q2008.13 1475.47 2009.15 1475.47 Q2014.93 1475.47 2018.31 1478.64 Q2021.69 1481.81 2021.69 1487.23 Q2021.69 1492.81 2018.22 1495.91 Q2014.75 1498.99 2008.43 1498.99 Q2006.25 1498.99 2003.98 1498.62 Q2001.74 1498.25 1999.33 1497.51 L1999.33 1492.81 Q2001.42 1493.94 2003.64 1494.5 Q2005.86 1495.05 2008.34 1495.05 Q2012.34 1495.05 2014.68 1492.95 Q2017.02 1490.84 2017.02 1487.23 Q2017.02 1483.62 2014.68 1481.51 Q2012.34 1479.4 2008.34 1479.4 Q2006.46 1479.4 2004.59 1479.82 Q2002.73 1480.24 2000.79 1481.12 L2000.79 1463.76 Z\" fill=\"#000000\" fill-rule=\"evenodd\" fill-opacity=\"1\" /><path clip-path=\"url(#clip050)\" d=\"M 0 0 M2288.55 1448.58 L2306.91 1448.58 L2306.91 1452.52 L2292.83 1452.52 L2292.83 1460.99 Q2293.85 1460.64 2294.87 1460.48 Q2295.89 1460.29 2296.91 1460.29 Q2302.7 1460.29 2306.08 1463.46 Q2309.45 1466.64 2309.45 1472.05 Q2309.45 1477.63 2305.98 1480.73 Q2302.51 1483.81 2296.19 1483.81 Q2294.01 1483.81 2291.75 1483.44 Q2289.5 1483.07 2287.09 1482.33 L2287.09 1477.63 Q2289.18 1478.77 2291.4 1479.32 Q2293.62 1479.88 2296.1 1479.88 Q2300.1 1479.88 2302.44 1477.77 Q2304.78 1475.66 2304.78 1472.05 Q2304.78 1468.44 2302.44 1466.33 Q2300.1 1464.23 2296.1 1464.23 Q2294.22 1464.23 2292.35 1464.64 Q2290.5 1465.06 2288.55 1465.94 L2288.55 1448.58 Z\" fill=\"#000000\" fill-rule=\"evenodd\" fill-opacity=\"1\" /><path clip-path=\"url(#clip050)\" d=\"M 0 0 M2314.52 1477.26 L2319.41 1477.26 L2319.41 1483.14 L2314.52 1483.14 L2314.52 1477.26 Z\" fill=\"#000000\" fill-rule=\"evenodd\" fill-opacity=\"1\" /><path clip-path=\"url(#clip050)\" d=\"M 0 0 M2334.48 1451.66 Q2330.87 1451.66 2329.04 1455.22 Q2327.23 1458.77 2327.23 1465.89 Q2327.23 1473 2329.04 1476.57 Q2330.87 1480.11 2334.48 1480.11 Q2338.11 1480.11 2339.92 1476.57 Q2341.75 1473 2341.75 1465.89 Q2341.75 1458.77 2339.92 1455.22 Q2338.11 1451.66 2334.48 1451.66 M2334.48 1447.96 Q2340.29 1447.96 2343.34 1452.56 Q2346.42 1457.14 2346.42 1465.89 Q2346.42 1474.62 2343.34 1479.23 Q2340.29 1483.81 2334.48 1483.81 Q2328.67 1483.81 2325.59 1479.23 Q2322.53 1474.62 2322.53 1465.89 Q2322.53 1457.14 2325.59 1452.56 Q2328.67 1447.96 2334.48 1447.96 Z\" fill=\"#000000\" fill-rule=\"evenodd\" fill-opacity=\"1\" /><path clip-path=\"url(#clip050)\" d=\"M 0 0 M2361.49 1451.66 Q2357.88 1451.66 2356.05 1455.22 Q2354.25 1458.77 2354.25 1465.89 Q2354.25 1473 2356.05 1476.57 Q2357.88 1480.11 2361.49 1480.11 Q2365.13 1480.11 2366.93 1476.57 Q2368.76 1473 2368.76 1465.89 Q2368.76 1458.77 2366.93 1455.22 Q2365.13 1451.66 2361.49 1451.66 M2361.49 1447.96 Q2367.3 1447.96 2370.36 1452.56 Q2373.44 1457.14 2373.44 1465.89 Q2373.44 1474.62 2370.36 1479.23 Q2367.3 1483.81 2361.49 1483.81 Q2355.68 1483.81 2352.6 1479.23 Q2349.55 1474.62 2349.55 1465.89 Q2349.55 1457.14 2352.6 1452.56 Q2355.68 1447.96 2361.49 1447.96 Z\" fill=\"#000000\" fill-rule=\"evenodd\" fill-opacity=\"1\" /><polyline clip-path=\"url(#clip052)\" style=\"stroke:#000000; stroke-width:2; stroke-opacity:0.1; fill:none\" points=\"\n",
       "  112.177,928.526 1754.87,857.743 \n",
       "  \"/>\n",
       "<polyline clip-path=\"url(#clip052)\" style=\"stroke:#000000; stroke-width:2; stroke-opacity:0.1; fill:none\" points=\"\n",
       "  1754.87,857.743 2352.76,1392.06 \n",
       "  \"/>\n",
       "<polyline clip-path=\"url(#clip052)\" style=\"stroke:#000000; stroke-width:2; stroke-opacity:0.1; fill:none\" points=\"\n",
       "  112.177,666.229 1754.87,595.445 \n",
       "  \"/>\n",
       "<polyline clip-path=\"url(#clip052)\" style=\"stroke:#000000; stroke-width:2; stroke-opacity:0.1; fill:none\" points=\"\n",
       "  1754.87,595.445 2352.76,1129.76 \n",
       "  \"/>\n",
       "<polyline clip-path=\"url(#clip052)\" style=\"stroke:#000000; stroke-width:2; stroke-opacity:0.1; fill:none\" points=\"\n",
       "  112.177,403.931 1754.87,333.148 \n",
       "  \"/>\n",
       "<polyline clip-path=\"url(#clip052)\" style=\"stroke:#000000; stroke-width:2; stroke-opacity:0.1; fill:none\" points=\"\n",
       "  1754.87,333.148 2352.76,867.463 \n",
       "  \"/>\n",
       "<polyline clip-path=\"url(#clip052)\" style=\"stroke:#000000; stroke-width:2; stroke-opacity:0.1; fill:none\" points=\"\n",
       "  112.177,141.634 1754.87,70.8509 \n",
       "  \"/>\n",
       "<polyline clip-path=\"url(#clip052)\" style=\"stroke:#000000; stroke-width:2; stroke-opacity:0.1; fill:none\" points=\"\n",
       "  1754.87,70.8509 2352.76,605.166 \n",
       "  \"/>\n",
       "<polyline clip-path=\"url(#clip050)\" style=\"stroke:#000000; stroke-width:4; stroke-opacity:1; fill:none\" points=\"\n",
       "  112.177,952.133 112.177,118.027 \n",
       "  \"/>\n",
       "<polyline clip-path=\"url(#clip050)\" style=\"stroke:#000000; stroke-width:4; stroke-opacity:1; fill:none\" points=\"\n",
       "  112.177,928.526 131.889,927.676 \n",
       "  \"/>\n",
       "<polyline clip-path=\"url(#clip050)\" style=\"stroke:#000000; stroke-width:4; stroke-opacity:1; fill:none\" points=\"\n",
       "  112.177,666.229 131.889,665.379 \n",
       "  \"/>\n",
       "<polyline clip-path=\"url(#clip050)\" style=\"stroke:#000000; stroke-width:4; stroke-opacity:1; fill:none\" points=\"\n",
       "  112.177,403.931 131.889,403.082 \n",
       "  \"/>\n",
       "<polyline clip-path=\"url(#clip050)\" style=\"stroke:#000000; stroke-width:4; stroke-opacity:1; fill:none\" points=\"\n",
       "  112.177,141.634 131.889,140.785 \n",
       "  \"/>\n",
       "<path clip-path=\"url(#clip050)\" d=\"M 0 0 M71.8578 941.871 L88.1772 941.871 L88.1772 945.806 L66.2328 945.806 L66.2328 941.871 Q68.8949 939.116 73.4782 934.486 Q78.0846 929.834 79.2652 928.491 Q81.5105 925.968 82.3902 924.232 Q83.2929 922.473 83.2929 920.783 Q83.2929 918.028 81.3485 916.292 Q79.4272 914.556 76.3254 914.556 Q74.1263 914.556 71.6726 915.32 Q69.2421 916.084 66.4643 917.635 L66.4643 912.912 Q69.2884 911.778 71.7421 911.2 Q74.1958 910.621 76.2328 910.621 Q81.6031 910.621 84.7976 913.306 Q87.992 915.991 87.992 920.482 Q87.992 922.611 87.1818 924.533 Q86.3948 926.431 84.2883 929.023 Q83.7096 929.695 80.6078 932.912 Q77.5059 936.107 71.8578 941.871 Z\" fill=\"#000000\" fill-rule=\"evenodd\" fill-opacity=\"1\" /><path clip-path=\"url(#clip050)\" d=\"M 0 0 M81.0476 664.874 Q84.404 665.592 86.279 667.86 Q88.1772 670.129 88.1772 673.462 Q88.1772 678.578 84.6587 681.379 Q81.1402 684.18 74.6587 684.18 Q72.4828 684.18 70.168 683.74 Q67.8764 683.323 65.4227 682.467 L65.4227 677.953 Q67.3671 679.087 69.6819 679.666 Q71.9967 680.245 74.5198 680.245 Q78.918 680.245 81.2096 678.509 Q83.5244 676.772 83.5244 673.462 Q83.5244 670.407 81.3717 668.694 Q79.242 666.958 75.4226 666.958 L71.3949 666.958 L71.3949 663.115 L75.6078 663.115 Q79.0569 663.115 80.8855 661.749 Q82.7142 660.36 82.7142 657.768 Q82.7142 655.106 80.8161 653.694 Q78.9411 652.259 75.4226 652.259 Q73.5013 652.259 71.3023 652.675 Q69.1032 653.092 66.4643 653.972 L66.4643 649.805 Q69.1264 649.064 71.4412 648.694 Q73.7791 648.324 75.8393 648.324 Q81.1633 648.324 84.2652 650.754 Q87.367 653.161 87.367 657.282 Q87.367 660.152 85.7235 662.143 Q84.08 664.11 81.0476 664.874 Z\" fill=\"#000000\" fill-rule=\"evenodd\" fill-opacity=\"1\" /><path clip-path=\"url(#clip050)\" d=\"M 0 0 M78.5939 390.725 L66.7884 409.174 L78.5939 409.174 L78.5939 390.725 M77.367 386.651 L83.2466 386.651 L83.2466 409.174 L88.1772 409.174 L88.1772 413.063 L83.2466 413.063 L83.2466 421.211 L78.5939 421.211 L78.5939 413.063 L62.9921 413.063 L62.9921 408.549 L77.367 386.651 Z\" fill=\"#000000\" fill-rule=\"evenodd\" fill-opacity=\"1\" /><path clip-path=\"url(#clip050)\" d=\"M 0 0 M67.2745 124.354 L85.6309 124.354 L85.6309 128.289 L71.5569 128.289 L71.5569 136.761 Q72.5754 136.414 73.5939 136.252 Q74.6124 136.067 75.6309 136.067 Q81.418 136.067 84.7976 139.238 Q88.1772 142.409 88.1772 147.826 Q88.1772 153.405 84.705 156.507 Q81.2328 159.585 74.9134 159.585 Q72.7374 159.585 70.4689 159.215 Q68.2236 158.844 65.8162 158.104 L65.8162 153.405 Q67.8995 154.539 70.1217 155.094 Q72.3439 155.65 74.8208 155.65 Q78.8254 155.65 81.1633 153.544 Q83.5013 151.437 83.5013 147.826 Q83.5013 144.215 81.1633 142.108 Q78.8254 140.002 74.8208 140.002 Q72.9458 140.002 71.0708 140.419 Q69.2189 140.835 67.2745 141.715 L67.2745 124.354 Z\" fill=\"#000000\" fill-rule=\"evenodd\" fill-opacity=\"1\" /><circle clip-path=\"url(#clip052)\" cx=\"739.507\" cy=\"657.884\" r=\"14\" fill=\"#cc4ccc\" fill-rule=\"evenodd\" fill-opacity=\"1\" stroke=\"#000000\" stroke-opacity=\"1\" stroke-width=\"3.2\"/>\n",
       "<circle clip-path=\"url(#clip052)\" cx=\"880.519\" cy=\"915.051\" r=\"14\" fill=\"#cc4ccc\" fill-rule=\"evenodd\" fill-opacity=\"1\" stroke=\"#000000\" stroke-opacity=\"1\" stroke-width=\"3.2\"/>\n",
       "<circle clip-path=\"url(#clip052)\" cx=\"457.613\" cy=\"590.396\" r=\"14\" fill=\"#cc4ccc\" fill-rule=\"evenodd\" fill-opacity=\"1\" stroke=\"#000000\" stroke-opacity=\"1\" stroke-width=\"3.2\"/>\n",
       "<circle clip-path=\"url(#clip052)\" cx=\"880.519\" cy=\"915.051\" r=\"14\" fill=\"#cc4ccc\" fill-rule=\"evenodd\" fill-opacity=\"1\" stroke=\"#000000\" stroke-opacity=\"1\" stroke-width=\"3.2\"/>\n",
       "<circle clip-path=\"url(#clip052)\" cx=\"1302.91\" cy=\"763.811\" r=\"14\" fill=\"#cc4ccc\" fill-rule=\"evenodd\" fill-opacity=\"1\" stroke=\"#000000\" stroke-opacity=\"1\" stroke-width=\"3.2\"/>\n",
       "<circle clip-path=\"url(#clip052)\" cx=\"1020.88\" cy=\"118.329\" r=\"14\" fill=\"#4ccc4c\" fill-rule=\"evenodd\" fill-opacity=\"1\" stroke=\"#000000\" stroke-opacity=\"1\" stroke-width=\"3.2\"/>\n",
       "<circle clip-path=\"url(#clip052)\" cx=\"880.519\" cy=\"1177.35\" r=\"14\" fill=\"#ff4c4c\" fill-rule=\"evenodd\" fill-opacity=\"1\" stroke=\"#000000\" stroke-opacity=\"1\" stroke-width=\"3.2\"/>\n",
       "<circle clip-path=\"url(#clip052)\" cx=\"1020.88\" cy=\"642.924\" r=\"14\" fill=\"#cc4ccc\" fill-rule=\"evenodd\" fill-opacity=\"1\" stroke=\"#000000\" stroke-opacity=\"1\" stroke-width=\"3.2\"/>\n",
       "<circle clip-path=\"url(#clip052)\" cx=\"2289.34\" cy=\"1116.64\" r=\"14\" fill=\"#cc4ccc\" fill-rule=\"evenodd\" fill-opacity=\"1\" stroke=\"#000000\" stroke-opacity=\"1\" stroke-width=\"3.2\"/>\n",
       "<circle clip-path=\"url(#clip052)\" cx=\"598.496\" cy=\"1187.61\" r=\"14\" fill=\"#cc4ccc\" fill-rule=\"evenodd\" fill-opacity=\"1\" stroke=\"#000000\" stroke-opacity=\"1\" stroke-width=\"3.2\"/>\n",
       "</svg>\n"
      ]
     },
     "execution_count": 10,
     "metadata": {},
     "output_type": "execute_result"
    }
   ],
   "source": [
    "scatter3d(dats[:,1],dats[:,2],dats[:,3],\n",
    "         markershape = :circle,\n",
    "         linealpha = 0.0,\n",
    "         #xlim = (3.0,5.0), ylim = (3.0,5.0), zlim = (3.0,5.0),\n",
    "         marker_z = a,\n",
    "         color=:lightrainbow, \n",
    "         camera=(70,50),\n",
    "         legend=false)"
   ]
  },
  {
   "cell_type": "markdown",
   "metadata": {},
   "source": [
    "## NMF's"
   ]
  },
  {
   "cell_type": "code",
   "execution_count": 11,
   "metadata": {},
   "outputs": [],
   "source": [
    "SVD = svd(dats, full=false)\n",
    "U = SVD.U;\n",
    "S = diagm(SVD.S);\n",
    "Vt = SVD.Vt;\n",
    "U = U[:,1:3];\n",
    "S = S[1:3,1:3];\n",
    "Vt = Vt[1:3,:];"
   ]
  },
  {
   "cell_type": "markdown",
   "metadata": {},
   "source": [
    "### PGD"
   ]
  },
  {
   "cell_type": "code",
   "execution_count": 75,
   "metadata": {},
   "outputs": [],
   "source": [
    "W_init = abs.(U);\n",
    "H_init = abs.(S*Vt);\n",
    "A = dats;"
   ]
  },
  {
   "cell_type": "code",
   "execution_count": 101,
   "metadata": {},
   "outputs": [
    {
     "data": {
      "text/plain": [
       "PGD (generic function with 5 methods)"
      ]
     },
     "execution_count": 101,
     "metadata": {},
     "output_type": "execute_result"
    }
   ],
   "source": [
    "function PGD(A, W::Array{Float64,2}, H::Array{Float64,2}, α::Float64, itermax=5000, tol::Float64=1e-4)\n",
    "    # Input: \n",
    "    # A--Data matrix\n",
    "    # W,H--initial W,H s.t A ≈ WH \n",
    "    # α--Step Size \n",
    "    # itermax--maximum iterations (default set to 100)\n",
    "    # tol--error tolerance (default set to 10⁻⁶)\n",
    "    err = Array{Float64,1}();\n",
    "    grad = Array{Float64,1}();\n",
    "    R = A - W*H;\n",
    "    for i=1:itermax\n",
    "        if 0.5*norm(R) < tol \n",
    "              break;\n",
    "        end\n",
    "        # PGD Update\n",
    "        W = max.(W + α*R*H',0);\n",
    "        H = max.(H + α*(W')*R,0);\n",
    "        R = A - W*H;\n",
    "\n",
    "        #Diagnostics\n",
    "        push!(err, norm(R));\n",
    "        push!(grad, norm(R*H') + norm(W'*R));\n",
    "    end\n",
    "    return W, H, err,grad\n",
    "end"
   ]
  },
  {
   "cell_type": "code",
   "execution_count": 88,
   "metadata": {},
   "outputs": [],
   "source": [
    "pgd_W, pgd_H, pgd_err, pgd_grad = PGD(dats,W_init,H_init,1e-4);"
   ]
  },
  {
   "cell_type": "markdown",
   "metadata": {},
   "source": [
    "### Lee-Seung"
   ]
  },
  {
   "cell_type": "code",
   "execution_count": 98,
   "metadata": {},
   "outputs": [
    {
     "data": {
      "text/plain": [
       "LS (generic function with 5 methods)"
      ]
     },
     "execution_count": 98,
     "metadata": {},
     "output_type": "execute_result"
    }
   ],
   "source": [
    "function LS(A, W_init::Array{Float64,2}, H_init::Array{Float64,2}, \n",
    "            itermax=1e6, tol::Float64=1e-5)\n",
    "    # Input: \n",
    "    # A--Data matrix\n",
    "    # W,H--initial W,H s.t A ≈ WH \n",
    "    # itermax--maximum iterations (default set to 100)\n",
    "    # tol--error tolerance (default set to 10⁻⁶)\n",
    "\n",
    "    #initialization\n",
    "    W = W_init;\n",
    "    H = H_init; \n",
    "    err = Array{Float64,1}();\n",
    "    steperrW = Array{Float64,1}();\n",
    "    steperrH = Array{Float64,1}();\n",
    "    iter = 1;\n",
    "    while norm(R) > tol && iter < itermax\n",
    "        \n",
    "        #LS Update\n",
    "        W = (W.*(A*H'))./(W*H*H');\n",
    "        H = (H.*(W'*A))./(W'*W*H);\n",
    "        R = A - W*H; \n",
    "        #Diagnostics \n",
    "        push!(err, 0.5*norm(R));\n",
    "        push!(steperrW, norm(W./(W*H*H')));\n",
    "        push!(steperrH, norm(H./((W')*W*H)));\n",
    "        iter = iter+1; \n",
    "\n",
    "     end\n",
    "    \n",
    "    return err, W, H, steperrW, steperrH, iter; \n",
    "end"
   ]
  },
  {
   "cell_type": "code",
   "execution_count": 100,
   "metadata": {},
   "outputs": [],
   "source": [
    "ls_err, ls_W, ls_H, steperrW, steperrH, ls_iter = LS(A, W_init, H_init);"
   ]
  },
  {
   "cell_type": "markdown",
   "metadata": {},
   "source": [
    "### Combo \n",
    "\n",
    "The first combo scheme is basic: 5000 iterations of PGD, and then 5000 of LS. "
   ]
  },
  {
   "cell_type": "code",
   "execution_count": 127,
   "metadata": {},
   "outputs": [],
   "source": [
    "pgd_W, pgd_H, pgd_err, pgd_grad = PGD(dats,W_init,H_init,1e-4,5000);\n",
    "err1, fin_W_1, final_H_1, combo_1_W, combo_1_H, ls_1_iter = LS(dats, pgd_W,pgd_H,5000);"
   ]
  },
  {
   "cell_type": "markdown",
   "metadata": {},
   "source": [
    "The second one is a bit more refined: if stuck on the same iterate for a while (say for 100 iterations), switch over to LS. "
   ]
  },
  {
   "cell_type": "code",
   "execution_count": 121,
   "metadata": {},
   "outputs": [
    {
     "data": {
      "text/plain": [
       "([3.509022016360105, 3.455578164494576, 3.4182126529707855, 3.3894121954523566, 3.365308342254075, 3.3439061266884536, 3.3242176940493144, 3.305796464936166, 3.28847235967114, 3.2721966536991123  …  2.950772454603064, 2.950772454594117, 2.9507724545852, 2.9507724545763128, 2.950772454567456, 2.9507724545586282, 2.950772454549831, 2.9507724545410627, 2.950772454532324, 2.950772454523615], [0.2996470154634596 0.3408241469056677 0.0; 0.34587470026125344 0.0 3.466500366194439e-44; … ; 0.33532898708213404 0.0 0.0; 0.1945415721300947 0.0044255893461174626 0.8530523506344464], [13.508885851819931 12.302325604846331 … 9.300275392229942 7.939172016526372; 0.759822704747848 1.6876375103423238 … 2.141047200686795 2.2434682420331975; 1.55842963176459 1.9944171453504977 … 2.2119480394024253 0.3750247605937485], [0.022090747011534795, 0.021938446400383747, 0.0218196221942851, 0.021730256143274094, 0.021664745882386482, 0.021618699940773232, 0.021588650675459873, 0.02157177913695122, 0.021565732731206533, 0.021568518396418813  …  0.01922102162546234, 0.01922102069365023, 0.019221019763408655, 0.019221018834734958, 0.019221017907626505, 0.019221016982080643, 0.019221016058094748, 0.019221015135666177, 0.0192210142147923, 0.019221013295470497], [4.440723652123559, 4.439304457089547, 4.438419406175985, 4.438287063079913, 4.4385789075074475, 4.439094291918694, 4.439704405478726, 4.440322741421159, 4.440891373296622, 4.441373698198347  …  4.399961631603904, 4.399961610117751, 4.399961588667783, 4.399961567253937, 4.399961545876153, 4.399961524534369, 4.399961503228526, 4.399961481958561, 4.399961460724415, 4.399961439526027], 5000)"
      ]
     },
     "execution_count": 121,
     "metadata": {},
     "output_type": "execute_result"
    }
   ],
   "source": [
    "temp_W = W_init;\n",
    "temp_H = H_init;\n",
    "for i = 1:50\n",
    "    temp_W, temp_H, temp_err, temp_grad = PGD(dats,temp_W,temp_H,1e-4,100);\n",
    "    if norm(temp_grad) < 1e-5 || abs(mean(temp_grad) - temp_grad[length(temp_grad)]) < 1e-8\n",
    "        break\n",
    "    end\n",
    "end\n",
    "\n",
    "if norm(temp_grad) >= 1e-5\n",
    "    err2, fin_W_2, fin_H_2, combo_2_W, combo_2_H, ls_2_iter = LS(dats, temp_W,temp_H,5000);\n",
    "end"
   ]
  },
  {
   "cell_type": "markdown",
   "metadata": {},
   "source": [
    "### Error Analysis"
   ]
  },
  {
   "cell_type": "code",
   "execution_count": 128,
   "metadata": {},
   "outputs": [
    {
     "data": {
      "text/plain": [
       "9999-element Array{Float64,1}:\n",
       " 10.113743609604043\n",
       "  9.593637107767016\n",
       "  9.285201970700628\n",
       "  9.105237754415255\n",
       "  9.000903364661243\n",
       "  8.940505880431155\n",
       "  8.905379793137405\n",
       "  8.88470364614263\n",
       "  8.872261838430193\n",
       "  8.864503511670788\n",
       "  8.859406409294122\n",
       "  8.855820868462077\n",
       "  8.85309395706833\n",
       "  ⋮\n",
       "  2.9507724546210494\n",
       "  2.9507724546120415\n",
       "  2.950772454603064\n",
       "  2.950772454594117\n",
       "  2.9507724545852\n",
       "  2.9507724545763128\n",
       "  2.950772454567456\n",
       "  2.9507724545586282\n",
       "  2.950772454549831\n",
       "  2.9507724545410627\n",
       "  2.950772454532324\n",
       "  2.950772454523615"
      ]
     },
     "execution_count": 128,
     "metadata": {},
     "output_type": "execute_result"
    }
   ],
   "source": []
  },
  {
   "cell_type": "code",
   "execution_count": null,
   "metadata": {},
   "outputs": [],
   "source": []
  }
 ],
 "metadata": {
  "@webio": {
   "lastCommId": null,
   "lastKernelId": null
  },
  "kernelspec": {
   "display_name": "Julia 1.5.2",
   "language": "julia",
   "name": "julia-1.5"
  },
  "language_info": {
   "file_extension": ".jl",
   "mimetype": "application/julia",
   "name": "julia",
   "version": "1.5.2"
  }
 },
 "nbformat": 4,
 "nbformat_minor": 2
}
